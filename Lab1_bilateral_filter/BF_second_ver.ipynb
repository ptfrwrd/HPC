{
  "nbformat": 4,
  "nbformat_minor": 0,
  "metadata": {
    "colab": {
      "name": "Bilateral_filtering.ipynb",
      "provenance": [],
      "collapsed_sections": [],
      "machine_shape": "hm"
    },
    "kernelspec": {
      "name": "python3",
      "display_name": "Python 3"
    },
    "accelerator": "GPU"
  },
  "cells": [
    {
      "cell_type": "code",
      "metadata": {
        "id": "IGTwvEVbQb_V",
        "colab": {
          "base_uri": "https://localhost:8080/"
        },
        "outputId": "ad0338e0-301e-41f1-f6fe-6bb0e22fd85d"
      },
      "source": [
        "# установка pycuda\n",
        "! pip install pycuda"
      ],
      "execution_count": 2,
      "outputs": [
        {
          "output_type": "stream",
          "text": [
            "Requirement already satisfied: pycuda in /usr/local/lib/python3.6/dist-packages (2020.1)\n",
            "Requirement already satisfied: appdirs>=1.4.0 in /usr/local/lib/python3.6/dist-packages (from pycuda) (1.4.4)\n",
            "Requirement already satisfied: pytools>=2011.2 in /usr/local/lib/python3.6/dist-packages (from pycuda) (2020.4.4)\n",
            "Requirement already satisfied: decorator>=3.2.0 in /usr/local/lib/python3.6/dist-packages (from pycuda) (4.4.2)\n",
            "Requirement already satisfied: mako in /usr/local/lib/python3.6/dist-packages (from pycuda) (1.1.3)\n",
            "Requirement already satisfied: numpy>=1.6.0 in /usr/local/lib/python3.6/dist-packages (from pytools>=2011.2->pycuda) (1.19.4)\n",
            "Requirement already satisfied: dataclasses>=0.7; python_version <= \"3.6\" in /usr/local/lib/python3.6/dist-packages (from pytools>=2011.2->pycuda) (0.8)\n",
            "Requirement already satisfied: MarkupSafe>=0.9.2 in /usr/local/lib/python3.6/dist-packages (from mako->pycuda) (1.1.1)\n"
          ],
          "name": "stdout"
        }
      ]
    },
    {
      "cell_type": "code",
      "metadata": {
        "id": "CvxXti45Qtia",
        "colab": {
          "base_uri": "https://localhost:8080/"
        },
        "outputId": "140e0d6a-7597-4171-ca47-967327fa9c1e"
      },
      "source": [
        "# импорт библиотек, необходимых для работы\n",
        "\n",
        "import numpy as np\n",
        "np.random.seed(0) \n",
        "\n",
        "import pycuda.autoinit\n",
        "import pycuda.driver as drv\n",
        "from pycuda.compiler import SourceModule\n",
        "import time\n",
        "import cv2\n",
        "import pycuda.driver as drv\n",
        "\n",
        "# т.к. колаб не отображет cv2.imshow, то использую эту функцию для проверки\n",
        "from google.colab.patches import cv2_imshow"
      ],
      "execution_count": 31,
      "outputs": [
        {
          "output_type": "stream",
          "text": [
            "time: 2.61 ms (started: 2020-12-22 21:04:17 +00:00)\n"
          ],
          "name": "stdout"
        }
      ]
    },
    {
      "cell_type": "code",
      "metadata": {
        "colab": {
          "base_uri": "https://localhost:8080/"
        },
        "id": "GEx3UUt9RGZ6",
        "outputId": "be123491-6c2d-4ac8-d017-e782ba977bd1"
      },
      "source": [
        "start = drv.Event()\r\n",
        "end = drv.Event()"
      ],
      "execution_count": 32,
      "outputs": [
        {
          "output_type": "stream",
          "text": [
            "time: 1.11 ms (started: 2020-12-22 21:04:27 +00:00)\n"
          ],
          "name": "stdout"
        }
      ]
    },
    {
      "cell_type": "code",
      "metadata": {
        "id": "bK-IDjghayuK",
        "colab": {
          "base_uri": "https://localhost:8080/"
        },
        "outputId": "10458208-7ba6-43ec-bcf7-5c429642e64d"
      },
      "source": [
        "# CPU функция\n",
        "def bilateral_filtering_cpu(im, sigma_r, sigma_d):\n",
        "    result = np.zeros((im.shape[0], im.shape[1]))\n",
        "    \n",
        "    for i in range(1, im.shape[0] - 1):\n",
        "        for j in range(1, im.shape[1] - 1):\n",
        "            c, s = 0, 0\n",
        "            for k in range(i-1, i+1):\n",
        "                for l in range(j-1, j+1):\n",
        "                    g = np.exp(-((k - i) ** 2 + (l - j) ** 2) / sigma_d ** 2)\n",
        "                    r = np.exp(-(im[k, l] - im[i, j]) ** 2 / sigma_r ** 2)\n",
        "                    c += g*r \n",
        "                    s +=   g*r*im[k, l]\n",
        "            result[i, j] = s / c\n",
        "    return result\n",
        "\n",
        "\n",
        "# GPU функция\n",
        "mod = SourceModule(\"\"\"\n",
        "texture<unsigned int, 2, cudaReadModeElementType> tex;\n",
        "\n",
        "__global__ void bilateral_filtering_gpu(unsigned int* result, const int M, const int N, const float sigma_d, const float sigma_r)\n",
        "{   \n",
        "    const int i = threadIdx.x + blockDim.x * blockIdx.x;\n",
        "    const int j = threadIdx.y + blockDim.y * blockIdx.y;\n",
        "    if ((i < M) && (j < N)) {\n",
        "            float s = 0;\n",
        "            float c = 0;\n",
        "            for (int l = i - 1; l <= i + 1; l++){\n",
        "                for (int k = j - 1; k <= j + 1; k++){\n",
        "                    float img1 = tex2D(tex, k, l) / 255;\n",
        "                    float img2 = tex2D(tex, i, j) / 255;\n",
        "                    float g = exp(-(pow(k - i, 2) + pow(l - j, 2)) / pow(sigma_d, 2));\n",
        "                    float r = exp(-pow((img1 - img2) * 255, 2) / pow(sigma_r, 2));\n",
        "                    c += g * r;\n",
        "                    s += g * r * tex2D(tex, k, l);\n",
        "                }\n",
        "            }\n",
        "            result[i * N + j] = s / c;\n",
        "        }\n",
        "}\n",
        "\"\"\")"
      ],
      "execution_count": 33,
      "outputs": [
        {
          "output_type": "stream",
          "text": [
            "time: 11.6 ms (started: 2020-12-22 21:04:29 +00:00)\n"
          ],
          "name": "stdout"
        }
      ]
    },
    {
      "cell_type": "code",
      "metadata": {
        "id": "TFYuNuN_AcKr",
        "colab": {
          "base_uri": "https://localhost:8080/"
        },
        "outputId": "ae186743-ed85-4ea3-bb09-2ef6a299bbb6"
      },
      "source": [
        "# ввод данных\n",
        "\n",
        "def read_data():\n",
        "  image_url = '/content/input.jpg'\n",
        "  print('Sigma_r = ')\n",
        "  sigma_r = input()\n",
        "  print('Sigma_d = ')\n",
        "  sigma_d = input()\n",
        "  return image_url, float(sigma_r), float(sigma_d)\n",
        "\n",
        "image_url, sigma_r, sigma_d  = read_data()\n",
        "image = cv2.imread(image_url, cv2.IMREAD_GRAYSCALE)"
      ],
      "execution_count": 73,
      "outputs": [
        {
          "output_type": "stream",
          "text": [
            "Sigma_r = \n",
            "10\n",
            "Sigma_d = \n",
            "0.1\n",
            "time: 5.84 s (started: 2020-12-22 21:13:47 +00:00)\n"
          ],
          "name": "stdout"
        }
      ]
    },
    {
      "cell_type": "code",
      "metadata": {
        "id": "TqImR5WRLNrg"
      },
      "source": [
        "!pip install ipython-autotime"
      ],
      "execution_count": null,
      "outputs": []
    },
    {
      "cell_type": "code",
      "metadata": {
        "id": "6FczmUYpCKIh",
        "colab": {
          "base_uri": "https://localhost:8080/"
        },
        "outputId": "1b85af42-5988-4bd5-a596-b9e3ff5319ae"
      },
      "source": [
        "%load_ext autotime\n",
        "start_cpu = time.time()\n",
        "\n",
        "start.record() \n",
        "start.synchronize()\n",
        "\n",
        "result = bilateral_filtering_cpu(image, sigma_r, sigma_d)\n",
        "cpu_time = time.time() - start_cpu\n",
        "\n",
        "end.record()\n",
        "end.synchronize()\n",
        "secs = start.time_till(end)/1000\n",
        "print(secs)\n",
        "\n",
        "cv2.imwrite('res_cpu.bmp', result)"
      ],
      "execution_count": 74,
      "outputs": [
        {
          "output_type": "stream",
          "text": [
            "The autotime extension is already loaded. To reload it, use:\n",
            "  %reload_ext autotime\n"
          ],
          "name": "stdout"
        },
        {
          "output_type": "stream",
          "text": [
            "/usr/local/lib/python3.6/dist-packages/ipykernel_launcher.py:11: RuntimeWarning: overflow encountered in ubyte_scalars\n",
            "  # This is added back by InteractiveShellApp.init_path()\n"
          ],
          "name": "stderr"
        },
        {
          "output_type": "stream",
          "text": [
            "23.66973046875\n"
          ],
          "name": "stdout"
        },
        {
          "output_type": "execute_result",
          "data": {
            "text/plain": [
              "True"
            ]
          },
          "metadata": {
            "tags": []
          },
          "execution_count": 74
        },
        {
          "output_type": "stream",
          "text": [
            "time: 23.7 s (started: 2020-12-22 21:13:56 +00:00)\n"
          ],
          "name": "stdout"
        }
      ]
    },
    {
      "cell_type": "code",
      "metadata": {
        "id": "yUHexwlDCCKe",
        "colab": {
          "base_uri": "https://localhost:8080/"
        },
        "outputId": "485dda07-88c5-43c8-fb1a-12b83524abe7"
      },
      "source": [
        "N, M = image.shape[0], image.shape[1]\n",
        "\n",
        "block_size = (1, 1, 1)\n",
        "grid_size = (int(np.ceil(N/block_size[0])),int(np.ceil(M/block_size[1])))"
      ],
      "execution_count": 80,
      "outputs": [
        {
          "output_type": "stream",
          "text": [
            "time: 1.51 ms (started: 2020-12-22 21:14:45 +00:00)\n"
          ],
          "name": "stdout"
        }
      ]
    },
    {
      "cell_type": "code",
      "metadata": {
        "colab": {
          "base_uri": "https://localhost:8080/"
        },
        "id": "MCY100WmK02D",
        "outputId": "d1d16bae-c765-4c35-cb23-a863e296fa7f"
      },
      "source": [
        "import pycuda.driver as cuda\r\n",
        "import pycuda.gpuarray as gpuarray\r\n",
        "\r\n",
        "result = np.zeros((N, M), dtype = np.uint32)\r\n",
        "\r\n",
        "bilateral_filtering_gpu = mod.get_function(\"bilateral_filtering_gpu\")"
      ],
      "execution_count": 81,
      "outputs": [
        {
          "output_type": "stream",
          "text": [
            "time: 2.26 ms (started: 2020-12-22 21:14:47 +00:00)\n"
          ],
          "name": "stdout"
        }
      ]
    },
    {
      "cell_type": "code",
      "metadata": {
        "id": "bAwp-PGJxIoW",
        "colab": {
          "base_uri": "https://localhost:8080/"
        },
        "outputId": "388d20f9-67f0-44f5-999d-6375818e1f8d"
      },
      "source": [
        "%load_ext autotime\n",
        "start_gpu = time.process_time()\n",
        "start.record()\n",
        "start.synchronize()\n",
        "\n",
        "tex = mod.get_texref(\"tex\")\n",
        "tex.set_filter_mode(drv.filter_mode.LINEAR)\n",
        "tex.set_address_mode(0, drv.address_mode.MIRROR)\n",
        "tex.set_address_mode(1, drv.address_mode.MIRROR)\n",
        "drv.matrix_to_texref(image.astype(np.uint32), tex, order=\"C\")\n",
        "\n",
        "bilateral_filtering_gpu(drv.Out(result), np.int32(N), np.int32(M), np.float32(sigma_r), np.float32(sigma_d), block=block_size, grid=grid_size, texrefs=[tex])\n",
        "drv.Context.synchronize()\n",
        "\n",
        "end.record()\n",
        "end.synchronize()\n",
        "secs = start.time_till(end)/1000\n",
        "print(secs)\n",
        "time_gpu = time.process_time() - start_gpu\n",
        "\n",
        "cv2.imwrite('res_gpu.bmp', result.astype(np.uint8))"
      ],
      "execution_count": 82,
      "outputs": [
        {
          "output_type": "stream",
          "text": [
            "The autotime extension is already loaded. To reload it, use:\n",
            "  %reload_ext autotime\n",
            "0.04233305740356445\n"
          ],
          "name": "stdout"
        },
        {
          "output_type": "execute_result",
          "data": {
            "text/plain": [
              "True"
            ]
          },
          "metadata": {
            "tags": []
          },
          "execution_count": 82
        },
        {
          "output_type": "stream",
          "text": [
            "time: 53 ms (started: 2020-12-22 21:14:49 +00:00)\n"
          ],
          "name": "stdout"
        }
      ]
    },
    {
      "cell_type": "code",
      "metadata": {
        "id": "TjW5i7NNDy5Q",
        "colab": {
          "base_uri": "https://localhost:8080/"
        },
        "outputId": "854b0892-e858-4f12-8292-940b19a6f1ee"
      },
      "source": [
        "print('Время CPU: ', cpu_time)\n",
        "print('Время GPU: ',time_gpu)\n",
        "print('CPU/GPU:', cpu_time/time_gpu)"
      ],
      "execution_count": 83,
      "outputs": [
        {
          "output_type": "stream",
          "text": [
            "Время CPU:  23.66930627822876\n",
            "Время GPU:  0.04314951799999278\n",
            "CPU/GPU: 548.5416147228509\n",
            "time: 1.34 ms (started: 2020-12-22 21:14:51 +00:00)\n"
          ],
          "name": "stdout"
        }
      ]
    }
  ]
}
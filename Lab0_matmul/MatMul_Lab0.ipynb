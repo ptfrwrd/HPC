{
  "nbformat": 4,
  "nbformat_minor": 0,
  "metadata": {
    "colab": {
      "name": "MatMul_Lab0.ipynb",
      "provenance": [],
      "machine_shape": "hm"
    },
    "kernelspec": {
      "name": "python3",
      "display_name": "Python 3"
    },
    "accelerator": "GPU"
  },
  "cells": [
    {
      "cell_type": "code",
      "metadata": {
        "id": "A4bMN2BbYn9T"
      },
      "source": [
        "! pip install pycuda"
      ],
      "execution_count": null,
      "outputs": []
    },
    {
      "cell_type": "code",
      "metadata": {
        "id": "hVU34gwUyb1o",
        "outputId": "88a91584-46b5-4f15-983f-1d108bf3ff30",
        "colab": {
          "base_uri": "https://localhost:8080/"
        }
      },
      "source": [
        "!nvidia-smi"
      ],
      "execution_count": 2,
      "outputs": [
        {
          "output_type": "stream",
          "text": [
            "Fri Oct 30 15:14:14 2020       \n",
            "+-----------------------------------------------------------------------------+\n",
            "| NVIDIA-SMI 455.32.00    Driver Version: 418.67       CUDA Version: 10.1     |\n",
            "|-------------------------------+----------------------+----------------------+\n",
            "| GPU  Name        Persistence-M| Bus-Id        Disp.A | Volatile Uncorr. ECC |\n",
            "| Fan  Temp  Perf  Pwr:Usage/Cap|         Memory-Usage | GPU-Util  Compute M. |\n",
            "|                               |                      |               MIG M. |\n",
            "|===============================+======================+======================|\n",
            "|   0  Tesla P100-PCIE...  Off  | 00000000:00:04.0 Off |                    0 |\n",
            "| N/A   37C    P0    27W / 250W |      0MiB / 16280MiB |      0%      Default |\n",
            "|                               |                      |                 ERR! |\n",
            "+-------------------------------+----------------------+----------------------+\n",
            "                                                                               \n",
            "+-----------------------------------------------------------------------------+\n",
            "| Processes:                                                                  |\n",
            "|  GPU   GI   CI        PID   Type   Process name                  GPU Memory |\n",
            "|        ID   ID                                                   Usage      |\n",
            "|=============================================================================|\n",
            "|  No running processes found                                                 |\n",
            "+-----------------------------------------------------------------------------+\n"
          ],
          "name": "stdout"
        }
      ]
    },
    {
      "cell_type": "code",
      "metadata": {
        "id": "cAnsunLdy6if",
        "outputId": "d5d942ca-f710-4a07-ff26-99976aae49a9",
        "colab": {
          "base_uri": "https://localhost:8080/"
        }
      },
      "source": [
        "!lscpu |grep 'Model name'"
      ],
      "execution_count": 3,
      "outputs": [
        {
          "output_type": "stream",
          "text": [
            "Model name:          Intel(R) Xeon(R) CPU @ 2.20GHz\n"
          ],
          "name": "stdout"
        }
      ]
    },
    {
      "cell_type": "code",
      "metadata": {
        "id": "JOK5pevJYZ35"
      },
      "source": [
        "import numpy as np\n",
        "np.random.seed(0) \n",
        "\n",
        "import pycuda.autoinit\n",
        "from pycuda import driver, gpuarray\n",
        "from pycuda.compiler import SourceModule\n",
        "import time"
      ],
      "execution_count": 4,
      "outputs": []
    },
    {
      "cell_type": "code",
      "metadata": {
        "id": "HJ3JxztZjmFY"
      },
      "source": [
        "# multiplication functions\n",
        "\n",
        "## GPU\n",
        "mod = SourceModule(\"\"\"\n",
        "        __global__ void mult_gpu(double* A, double* B, double* C){\n",
        "                const int row =  threadIdx.y + blockIdx.y * blockDim.y;\n",
        "                const int column = threadIdx.x + blockIdx.x * blockDim.x;\n",
        "                const int N = 128;\n",
        "                for(int i = 0; i < N; i++){\n",
        "                        C[column + row * N] += A[i + row * N] * B[column + i * N];              \n",
        "                }       \n",
        "        }\n",
        "\"\"\")\n",
        "\n",
        "## simple CPU function\n",
        "def mult_cpu(A, B):\n",
        "    C, n  = np.zeros((N, N)), range(N)\n",
        "    for i in n:\n",
        "        for j in n:\n",
        "            for k in n:\n",
        "                C[i, j] += A[i, k] * B[k, j]\n",
        "    return C"
      ],
      "execution_count": 49,
      "outputs": []
    },
    {
      "cell_type": "code",
      "metadata": {
        "id": "JHVO3ztaqLwZ"
      },
      "source": [
        "sizes, N = [128, 256, 512, 1024, 2048], sizes[0] # matrix size\n",
        "\n",
        "# matrix\n",
        "A, B, C_gpu= np.random.randn(N, N).astype(np.float), np.random.randn(N, N).astype(np.float), np.ones((N, N)).astype(np.float)"
      ],
      "execution_count": 54,
      "outputs": []
    },
    {
      "cell_type": "code",
      "metadata": {
        "id": "Q4_1rWgKqOlr"
      },
      "source": [
        "# GPU multiplication\n",
        "\n",
        "## preparing\n",
        "block_size, grid = [2, 2], (int((N + block_size[0] - 1) / 2), int((N + block_size[1] - 1) / 2))\n",
        "mult = mod.get_function(\"mult_gpu\")\n",
        "\n",
        "block = (block_size[0], block_size[1], 1)\n",
        "\n",
        "## multiplication\n",
        "start_gpu = time.time()\n",
        "mult(driver.In(A), driver.In(B), driver.Out(C_gpu), block = block, grid = grid)\n",
        "driver.Context.synchronize()\n",
        "time_gpu = time.time() - start_gpu"
      ],
      "execution_count": 55,
      "outputs": []
    },
    {
      "cell_type": "code",
      "metadata": {
        "id": "L8C21eWSqXGt"
      },
      "source": [
        "# CPU multiplication \n",
        "start_cpu = time.time()\n",
        "C_cpu = mult_cpu(A, B)\n",
        "time_cpu = time.time() - start_cpu"
      ],
      "execution_count": 56,
      "outputs": []
    },
    {
      "cell_type": "code",
      "metadata": {
        "id": "DOVfWi29qa1c",
        "outputId": "0a394587-b5a6-496c-aa23-3916acb7991e",
        "colab": {
          "base_uri": "https://localhost:8080/"
        }
      },
      "source": [
        "# results\n",
        "print('GPU time: ', round(time_gpu, 4))\n",
        "print('CPU time: ', round(time_cpu, 4))\n",
        "\n",
        "if np.allclose(C_gpu, C_cpu):\n",
        "        print('Good results')\n",
        "        print('acceleration: ', round(time_cpu/time_gpu, 4))\n",
        "else:\n",
        "        print('Results do not converge')\n",
        "        "
      ],
      "execution_count": 57,
      "outputs": [
        {
          "output_type": "stream",
          "text": [
            "GPU time:  0.0016\n",
            "CPU time:  1.3975\n",
            "Good results\n",
            "acceleration:  871.6153\n"
          ],
          "name": "stdout"
        }
      ]
    },
    {
      "cell_type": "markdown",
      "metadata": {
        "id": "AOuSWCLtvl_m"
      },
      "source": [
        "# <center> **Results:** </center>\n",
        "\n",
        "<table>\n",
        "<thead>\n",
        "<tr><th>Size</th><th>CPU time</th><th>GPU time</th><th>Acceleration</th></tr>\n",
        "</thead>\n",
        "<tbody>\n",
        "<tr><td>128</td><td> 1.3975</td><td>0.0016</td><td>1609.0915</td></tr>\n",
        "<tr><td>256</td><td> 11.5251</td><td>0.0032</td><td>3599.9234</td></tr>\n",
        "<tr><td>512</td><td> 93.4048</td><td>0.0113</td><td>8254.5239</td></tr>\n",
        "<tr><td>1024</td><td> 859.1499</td><td>0.0493</td><td>17435.5929</td></tr>\n",
        "<tr><td>2048</td><td> 6723.3339</td><td>0.326</td><td>20621.3875</td></tr>\n",
        "</tbody>\n",
        "</table>"
      ]
    },
    {
      "cell_type": "code",
      "metadata": {
        "id": "w9xMiW1m3MNC",
        "outputId": "9487cc7d-141a-4530-9e78-73d0da9eae48",
        "colab": {
          "base_uri": "https://localhost:8080/",
          "height": 235
        }
      },
      "source": [
        "# visualization results\n",
        "import seaborn as sns\n",
        "sns.set_theme(style=\"darkgrid\")\n",
        "import pandas as pd\n",
        "\n",
        "\n",
        "cpu_time = [1.3975, 11.5251, 93.4048, 859.1499, 6723.3339]\n",
        "gpu_time = [0.0016, 0.0032, \t0.0113, 0.0493, 0.326]\n",
        "acceleration = [1609.0915, 3599.9234, 8254.5239, 17435.5929, 20621.3875]\n",
        "\n",
        "result= pd.DataFrame({'cpu_time': cpu_time, 'gpu_time': gpu_time, 'acceleration': acceleration, 'size': sizes})\n",
        "result = result.set_index('size')\n",
        "result.head()"
      ],
      "execution_count": 43,
      "outputs": [
        {
          "output_type": "execute_result",
          "data": {
            "text/html": [
              "<div>\n",
              "<style scoped>\n",
              "    .dataframe tbody tr th:only-of-type {\n",
              "        vertical-align: middle;\n",
              "    }\n",
              "\n",
              "    .dataframe tbody tr th {\n",
              "        vertical-align: top;\n",
              "    }\n",
              "\n",
              "    .dataframe thead th {\n",
              "        text-align: right;\n",
              "    }\n",
              "</style>\n",
              "<table border=\"1\" class=\"dataframe\">\n",
              "  <thead>\n",
              "    <tr style=\"text-align: right;\">\n",
              "      <th></th>\n",
              "      <th>cpu_time</th>\n",
              "      <th>gpu_time</th>\n",
              "      <th>acceleration</th>\n",
              "    </tr>\n",
              "    <tr>\n",
              "      <th>size</th>\n",
              "      <th></th>\n",
              "      <th></th>\n",
              "      <th></th>\n",
              "    </tr>\n",
              "  </thead>\n",
              "  <tbody>\n",
              "    <tr>\n",
              "      <th>128</th>\n",
              "      <td>1.3734</td>\n",
              "      <td>0.0014</td>\n",
              "      <td>1609.0915</td>\n",
              "    </tr>\n",
              "    <tr>\n",
              "      <th>256</th>\n",
              "      <td>11.5251</td>\n",
              "      <td>0.0032</td>\n",
              "      <td>3599.9234</td>\n",
              "    </tr>\n",
              "    <tr>\n",
              "      <th>512</th>\n",
              "      <td>93.4048</td>\n",
              "      <td>0.0113</td>\n",
              "      <td>8254.5239</td>\n",
              "    </tr>\n",
              "    <tr>\n",
              "      <th>1024</th>\n",
              "      <td>859.1499</td>\n",
              "      <td>0.0493</td>\n",
              "      <td>17435.5929</td>\n",
              "    </tr>\n",
              "    <tr>\n",
              "      <th>2048</th>\n",
              "      <td>6723.3339</td>\n",
              "      <td>0.3260</td>\n",
              "      <td>20621.3875</td>\n",
              "    </tr>\n",
              "  </tbody>\n",
              "</table>\n",
              "</div>"
            ],
            "text/plain": [
              "       cpu_time  gpu_time  acceleration\n",
              "size                                   \n",
              "128      1.3734    0.0014     1609.0915\n",
              "256     11.5251    0.0032     3599.9234\n",
              "512     93.4048    0.0113     8254.5239\n",
              "1024   859.1499    0.0493    17435.5929\n",
              "2048  6723.3339    0.3260    20621.3875"
            ]
          },
          "metadata": {
            "tags": []
          },
          "execution_count": 43
        }
      ]
    },
    {
      "cell_type": "code",
      "metadata": {
        "id": "0X8CjEpB32pi",
        "outputId": "9622aebc-53d4-494f-c88b-bd95e48e6057",
        "colab": {
          "base_uri": "https://localhost:8080/",
          "height": 302
        }
      },
      "source": [
        "sns.lineplot(x=\"cpu_time\", y=\"size\", data=result, color='r')"
      ],
      "execution_count": 44,
      "outputs": [
        {
          "output_type": "execute_result",
          "data": {
            "text/plain": [
              "<matplotlib.axes._subplots.AxesSubplot at 0x7f09acea7978>"
            ]
          },
          "metadata": {
            "tags": []
          },
          "execution_count": 44
        },
        {
          "output_type": "display_data",
          "data": {
            "image/png": "[encoded data removed]",
            "text/plain": [
              "<Figure size 432x288 with 1 Axes>"
            ]
          },
          "metadata": {
            "tags": []
          }
        }
      ]
    },
    {
      "cell_type": "code",
      "metadata": {
        "id": "dv9Xq1w940RA",
        "outputId": "132b9ecc-fc01-418f-97b1-1b413408bda4",
        "colab": {
          "base_uri": "https://localhost:8080/",
          "height": 302
        }
      },
      "source": [
        "sns.lineplot(x=\"gpu_time\", y=\"size\", data=result, color='g')"
      ],
      "execution_count": 45,
      "outputs": [
        {
          "output_type": "execute_result",
          "data": {
            "text/plain": [
              "<matplotlib.axes._subplots.AxesSubplot at 0x7f09acd1cd68>"
            ]
          },
          "metadata": {
            "tags": []
          },
          "execution_count": 45
        },
        {
          "output_type": "display_data",
          "data": {
            "image/png": "[encoded data removed]",
            "text/plain": [
              "<Figure size 432x288 with 1 Axes>"
            ]
          },
          "metadata": {
            "tags": []
          }
        }
      ]
    },
    {
      "cell_type": "code",
      "metadata": {
        "id": "aVQc091rHZIU",
        "outputId": "cb3dbd09-47b2-4884-aa2d-9e013e8ee58a",
        "colab": {
          "base_uri": "https://localhost:8080/",
          "height": 302
        }
      },
      "source": [
        "sns.lineplot(x=\"acceleration\", y=\"size\", data=result, color='b')"
      ],
      "execution_count": 46,
      "outputs": [
        {
          "output_type": "execute_result",
          "data": {
            "text/plain": [
              "<matplotlib.axes._subplots.AxesSubplot at 0x7f09acc8e978>"
            ]
          },
          "metadata": {
            "tags": []
          },
          "execution_count": 46
        },
        {
          "output_type": "display_data",
          "data": {
            "image/png": "[encoded data removed]",
            "text/plain": [
              "<Figure size 432x288 with 1 Axes>"
            ]
          },
          "metadata": {
            "tags": []
          }
        }
      ]
    }
  ]
}
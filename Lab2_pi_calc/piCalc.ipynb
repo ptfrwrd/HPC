{
  "nbformat": 4,
  "nbformat_minor": 0,
  "metadata": {
    "colab": {
      "name": "piCalc.ipynb",
      "provenance": []
    },
    "kernelspec": {
      "name": "python3",
      "display_name": "Python 3"
    },
    "accelerator": "GPU"
  },
  "cells": [
    {
      "cell_type": "code",
      "metadata": {
        "colab": {
          "base_uri": "https://localhost:8080/"
        },
        "id": "v-n9X5wWjRz_",
        "outputId": "c11cf182-9baf-4f0d-8ea1-68137389c9bb"
      },
      "source": [
        "! pip install pycuda"
      ],
      "execution_count": 12,
      "outputs": [
        {
          "output_type": "stream",
          "text": [
            "Requirement already satisfied: pycuda in /usr/local/lib/python3.6/dist-packages (2020.1)\n",
            "Requirement already satisfied: appdirs>=1.4.0 in /usr/local/lib/python3.6/dist-packages (from pycuda) (1.4.4)\n",
            "Requirement already satisfied: pytools>=2011.2 in /usr/local/lib/python3.6/dist-packages (from pycuda) (2020.4.3)\n",
            "Requirement already satisfied: decorator>=3.2.0 in /usr/local/lib/python3.6/dist-packages (from pycuda) (4.4.2)\n",
            "Requirement already satisfied: mako in /usr/local/lib/python3.6/dist-packages (from pycuda) (1.1.3)\n",
            "Requirement already satisfied: six>=1.8.0 in /usr/local/lib/python3.6/dist-packages (from pytools>=2011.2->pycuda) (1.15.0)\n",
            "Requirement already satisfied: numpy>=1.6.0 in /usr/local/lib/python3.6/dist-packages (from pytools>=2011.2->pycuda) (1.18.5)\n",
            "Requirement already satisfied: dataclasses>=0.7; python_version <= \"3.6\" in /usr/local/lib/python3.6/dist-packages (from pytools>=2011.2->pycuda) (0.7)\n",
            "Requirement already satisfied: MarkupSafe>=0.9.2 in /usr/local/lib/python3.6/dist-packages (from mako->pycuda) (1.1.1)\n"
          ],
          "name": "stdout"
        }
      ]
    },
    {
      "cell_type": "code",
      "metadata": {
        "id": "zHpxjvTD6xmw"
      },
      "source": [
        "import numpy as np\n",
        "import time\n",
        "\n",
        "import pycuda.gpuarray as gpuarray\n",
        "import pycuda.autoinit\n",
        "from  pycuda import  driver\n",
        "from pycuda.compiler import SourceModule"
      ],
      "execution_count": 13,
      "outputs": []
    },
    {
      "cell_type": "markdown",
      "metadata": {
        "id": "KS8tdRci8rnK"
      },
      "source": [
        "# Алгоритм GPU\n",
        "\n",
        "- Есть две последовательности: $x, y$ ;\n",
        "- Считаем $temp = x^2 + y^2 $ ;\n",
        "- Если $temp < 1 $, то возвращаем 1 (к счётчику прибавляем 1), иначе возвращаем 0 (оставляем значение счётчика без изменений);\n",
        "- Выполняется атомарная операция сложения;\n",
        "- Домножение на $4/n$ будет осуществлено позже.\n"
      ]
    },
    {
      "cell_type": "code",
      "metadata": {
        "id": "h_Cr02Ct6_gl"
      },
      "source": [
        "mod = SourceModule(\"\"\"\n",
        "  __global__ void pi_mc_calc_gpu(double *x, double *y, double *result_gpu, const int n) {\n",
        "        \n",
        "        int gpu_count = 0;\n",
        "        int idx = threadIdx.x + (blockIdx.x*blockDim.x);\n",
        "        int thread_count = gridDim.x*blockDim.x;\n",
        "\n",
        "        for (int i=idx; i<n; i += thread_count) {\n",
        "          int temp;\n",
        "          temp = pow(x[i], 2) + pow(y[i], 2);\n",
        "          if (temp < 1)\n",
        "            gpu_count += 1;\n",
        "          \n",
        "        }\n",
        "\n",
        "        atomicAdd(result_gpu, gpu_count);\n",
        "  }    \n",
        "\"\"\")"
      ],
      "execution_count": 14,
      "outputs": []
    },
    {
      "cell_type": "markdown",
      "metadata": {
        "id": "8Jj5OkLsM9nF"
      },
      "source": [
        "# Алгоритм CPU\n",
        "\n",
        "- На вход подаются также две последовательности $x,y$ (и число точек $n$);\n",
        "- Считаем $temp = x^2 + y^2 $ ;\n",
        "- Если $temp < 1 $, то возвращаем 1 (к счётчику прибавляем 1), иначе возвращаем 0 (оставляем значение счётчика без изменений);\n",
        "- Умножение на $4/n$."
      ]
    },
    {
      "cell_type": "code",
      "metadata": {
        "id": "Q9WLFdwKBLvE"
      },
      "source": [
        "cpu_count = 0\n",
        "\n",
        "def pi_mc_calc_cpu(x, y, n):\n",
        "  temp = x ** 2 + y ** 2\n",
        "  gen_cpu = [cpu_count + 1 for i in range(n) if temp[i] < 1]\n",
        "  result = 4/n * sum(gen_cpu)\n",
        "  return result"
      ],
      "execution_count": 15,
      "outputs": []
    },
    {
      "cell_type": "markdown",
      "metadata": {
        "id": "-UuU9ynuTVGg"
      },
      "source": [
        "Так как в задании указано, что \"Gain basic experience in writing CUDA programs and using CURAND library\", то массивы x и y генерируются на GPU для GPU-вычислений, для CPU-вычислений массивы преобразовываются в ndarray функцией get()."
      ]
    },
    {
      "cell_type": "code",
      "metadata": {
        "id": "PKVZouZREQTM"
      },
      "source": [
        " from pycuda.curandom import rand as curand\n",
        "\n",
        "def generate_data():\n",
        "  print('Введите число точек: ')\n",
        "  n = int(input())\n",
        "  assert n % 16 ==  0, 'вводимое число должно быть кратно 16'\n",
        "  print('Введенное число точек: ', n)\n",
        "\n",
        "  x_gpu = curand((n,), dtype=np.double) \n",
        "  y_gpu = curand((n,), dtype=np.double)\n",
        "  x = x_gpu.get().astype(np.double)\n",
        "  y = y_gpu.get().astype(np.double)\n",
        "  print('Сгенерированные массивы: \\n', x, '\\n', y)\n",
        "  return x, y, n"
      ],
      "execution_count": 16,
      "outputs": []
    },
    {
      "cell_type": "code",
      "metadata": {
        "colab": {
          "base_uri": "https://localhost:8080/"
        },
        "id": "Vpq4NN11EbW-",
        "outputId": "9b632272-d461-4a64-cedc-681407a280b6"
      },
      "source": [
        "x, y, n = generate_data()"
      ],
      "execution_count": 17,
      "outputs": [
        {
          "output_type": "stream",
          "text": [
            "Введите число точек: \n",
            "16777216\n",
            "Введенное число точек:  16777216\n",
            "Сгенерированные массивы: \n",
            " [0.35224954 0.02405453 0.54876547 ... 0.1193281  0.23744568 0.35254925] \n",
            " [0.58437081 0.88769675 0.8967798  ... 0.5779781  0.61378046 0.65977915]\n"
          ],
          "name": "stdout"
        }
      ]
    },
    {
      "cell_type": "code",
      "metadata": {
        "id": "Odxn3tNfE7v7",
        "colab": {
          "base_uri": "https://localhost:8080/"
        },
        "outputId": "4ed810be-037e-43e5-8e9e-25557b93d5c6"
      },
      "source": [
        "cpu_start = time.time()\n",
        "result_cpu = pi_mc_calc_cpu(x,y, n)\n",
        "cpu_time = time.time() - cpu_start\n",
        "print('Число pi: ', result_cpu)\n",
        "print('Время на CPU: ', round(cpu_time,4))"
      ],
      "execution_count": 18,
      "outputs": [
        {
          "output_type": "stream",
          "text": [
            "Число pi:  3.1418874263763428\n",
            "Время на CPU:  6.2478\n"
          ],
          "name": "stdout"
        }
      ]
    },
    {
      "cell_type": "code",
      "metadata": {
        "id": "VPZrS4rdH7Q_"
      },
      "source": [
        "# т.к. массивы точек являются одномерными\n",
        "block = (128, 1, 1)\n",
        "grid = (int(n/(128 * block[0])), 1)\n",
        "\n",
        "result_gpu = gpuarray.zeros((1,), dtype=np.double)\n",
        "result_gpu  = result_gpu.get()"
      ],
      "execution_count": 19,
      "outputs": []
    },
    {
      "cell_type": "code",
      "metadata": {
        "id": "mxbylC24InsG",
        "colab": {
          "base_uri": "https://localhost:8080/"
        },
        "outputId": "0459c9e0-5f14-4978-af8f-3d3fdb8f1a4d"
      },
      "source": [
        "calc_gpu = mod.get_function(\"pi_mc_calc_gpu\")\n",
        "\n",
        "gpu_start = time.time()\n",
        "calc_gpu(driver.In(x), driver.In(y), driver.Out(result_gpu), np.int32(n), block = block, grid = grid)\n",
        "driver.Context.synchronize()\n",
        "gpu_time = time.time() - gpu_start\n",
        "\n",
        "result_gpu =  result_gpu[0] * 4/n\n",
        "print('Число pi: ', result_gpu)\n",
        "print('Время на GPU: ', round(gpu_time,4))"
      ],
      "execution_count": 20,
      "outputs": [
        {
          "output_type": "stream",
          "text": [
            "Число pi:  3.1418874263763428\n",
            "Время на GPU:  0.135\n"
          ],
          "name": "stdout"
        }
      ]
    },
    {
      "cell_type": "code",
      "metadata": {
        "id": "iOsEv3RKOGwM",
        "colab": {
          "base_uri": "https://localhost:8080/"
        },
        "outputId": "10f71501-de6f-44ba-97de-0e110feaa059"
      },
      "source": [
        "print('Ускорение: ', cpu_time/gpu_time)\n",
        "print('Сравнение с числом pi: ')\n",
        "print('GPU:', abs(np.pi -  result_gpu) )\n",
        "print('CPU:', abs(np.pi -  result_cpu) )"
      ],
      "execution_count": 21,
      "outputs": [
        {
          "output_type": "stream",
          "text": [
            "Ускорение:  46.26636075854386\n",
            "Сравнение с числом pi: \n",
            "GPU: 0.00029477278654965744\n",
            "CPU: 0.00029477278654965744\n"
          ],
          "name": "stdout"
        }
      ]
    }
  ]
}